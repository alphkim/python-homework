{
 "cells": [
  {
   "cell_type": "code",
   "execution_count": 9,
   "metadata": {},
   "outputs": [],
   "source": [
    "#import the pathlib and csv library\n",
    "from pathlib import Path\n",
    "import csv\n",
    "\n",
    "#set the file path\n",
    "csvpath = Path('budget_data.csv')"
   ]
  },
  {
   "cell_type": "code",
   "execution_count": 67,
   "metadata": {},
   "outputs": [
    {
     "name": "stdout",
     "output_type": "stream",
     "text": [
      "['Date', 'Profit/Losses'] <---- HEADER\n",
      "Total Months: 86\n",
      "Total: $38382578\n",
      "Average Change: $-2315.12\n",
      "Greatest Increase in Profits: Feb-2012 ($1926159)\n",
      "Greatest Decrease in Profits: Sep-2013 ($-2196167)\n"
     ]
    }
   ],
   "source": [
    "#Initialize Dictionary\n",
    "analysis = {}\n",
    "analysis['Increase'] = {'Date':None,'Profit/Loss':0}\n",
    "analysis['Decrease'] = {'Date':None,'Profit/Loss':0}\n",
    "\n",
    "#initalize variables\n",
    "    TotalMonth = 0\n",
    "    NetAmount = 0\n",
    "    PrevValue = 0;\n",
    "    DiffChange = 0.0\n",
    "    AverageChange = 0\n",
    "    NumOfChange = 0\n",
    "\n",
    "    \n",
    "#read csv file\n",
    "with open(csvpath, 'r') as csvfile:\n",
    "    \n",
    "    # Pass in the csv file to the csv.reader() function\n",
    "    # (with ',' as the delmiter/separator) and return the csvreader object\n",
    "    csvreader = csv.reader(csvfile, delimiter=',')\n",
    "    \n",
    "    # Go to the next row from the start of the file\n",
    "    # (which is often the first row/header) and iterate line_num by 1\n",
    "    header = next(csvreader)\n",
    "\n",
    "    # Read each row of data after the header\n",
    "    for row in csvreader:\n",
    "   \n",
    "        NetAmount += int(row[1])\n",
    "        TotalMonth += 1\n",
    "        \n",
    "        if TotalMonth>1:\n",
    "            DiffChange = int(row[1])-PrevValue\n",
    "            AverageChange += DiffChange\n",
    "            NumOfChange += 1 \n",
    "           \n",
    "        #assign increase/decrease values\n",
    "        if DiffChange>analysis['Increase']['Profit/Loss']:\n",
    "            analysis['Increase']['Date'] = row[0]\n",
    "            analysis['Increase']['Profit/Loss'] = DiffChange\n",
    "        elif DiffChange<analysis['Decrease']['Profit/Loss']:\n",
    "            analysis['Decrease']['Date'] = row[0]\n",
    "            analysis['Decrease']['Profit/Loss'] = DiffChange\n",
    "\n",
    "        #buffer the previous Profit/Losss value\n",
    "        PrevValue = int(row[1])          \n",
    "\n",
    "#The total number of months included in the dataset.\n",
    "print (f\"Total Months: {TotalMonth}\")\n",
    "#The net total amount of Profit/Losses over the entire period.\n",
    "print (f\"Total: ${NetAmount}\")\n",
    "#The average of the changes in Profit/Losses over the entire period.\n",
    "print (f\"Average Change: ${round(AverageChange/(NumOfChange),2)}\")\n",
    "#The greatest increase in profits (date and amount) over the entire period.\n",
    "print (f\"Greatest Increase in Profits: {analysis['Increase']['Date']} (${analysis['Increase']['Profit/Loss']})\")\n",
    "#The greatest decrease in losses (date and amount) over the entire period.\n",
    "print (f\"Greatest Decrease in Profits: {analysis['Decrease']['Date']} (${analysis['Decrease']['Profit/Loss']})\")\n",
    "\n",
    "# Set the path for the aggregate.csv\n",
    "aggregate_path = Path(\"output.csv\")\n",
    "\n",
    "# Open the output path as a file and pass into the 'csv.writer()' function\n",
    "# Set the delimiter/separater as a ','\n",
    "with open(aggregate_path, \"w\") as csvfile:\n",
    "    csvwriter = csv.writer(csvfile, delimiter=\",\")"
   ]
  },
  {
   "cell_type": "code",
   "execution_count": null,
   "metadata": {},
   "outputs": [],
   "source": []
  },
  {
   "cell_type": "code",
   "execution_count": null,
   "metadata": {},
   "outputs": [],
   "source": []
  }
 ],
 "metadata": {
  "kernelspec": {
   "display_name": "Python 3",
   "language": "python",
   "name": "python3"
  },
  "language_info": {
   "codemirror_mode": {
    "name": "ipython",
    "version": 3
   },
   "file_extension": ".py",
   "mimetype": "text/x-python",
   "name": "python",
   "nbconvert_exporter": "python",
   "pygments_lexer": "ipython3",
   "version": "3.8.3"
  }
 },
 "nbformat": 4,
 "nbformat_minor": 4
}
