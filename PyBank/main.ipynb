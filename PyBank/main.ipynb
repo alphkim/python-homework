{
 "cells": [
  {
   "cell_type": "code",
   "execution_count": 9,
   "metadata": {},
   "outputs": [],
   "source": [
    "#import the pathlib and csv library\n",
    "from pathlib import Path\n",
    "import csv\n",
    "\n",
    "#set the file path\n",
    "csvpath = Path('budget_data.csv')"
   ]
  },
  {
   "cell_type": "code",
   "execution_count": 94,
   "metadata": {},
   "outputs": [
    {
     "name": "stdout",
     "output_type": "stream",
     "text": [
      "Financial Analysis\n",
      "----------------------------\n",
      "Total Months: 86\n",
      "Total: $38382578\n",
      "Average Change: $-2315.12\n",
      "Greatest Increase in Profits: Feb-2012 ($1926159)\n",
      "Greatest Decrease in Profits: Sep-2013 ($-2196167)\n"
     ]
    }
   ],
   "source": [
    "#Initialize Dictionary\n",
    "analysis = {}\n",
    "analysis['Increase'] = {'Date':None,'Profit/Loss':0}\n",
    "analysis['Decrease'] = {'Date':None,'Profit/Loss':0}\n",
    "\n",
    "#initalize variables\n",
    "TotalMonth = 0\n",
    "NetAmount = 0\n",
    "PrevValue = 0;\n",
    "DiffChange = 0.0\n",
    "AverageChange = 0\n",
    "NumOfChange = 0\n",
    "outputList=[]    \n",
    "#read csv file\n",
    "with open(csvpath, 'r') as csvfile:\n",
    "    \n",
    "    # Pass in the csv file to the csv.reader() function\n",
    "    # (with ',' as the delmiter/separator) and return the csvreader object\n",
    "    csvreader = csv.reader(csvfile, delimiter=',')\n",
    "    \n",
    "    # Go to the next row from the start of the file\n",
    "    # (which is often the first row/header) and iterate line_num by 1\n",
    "    header = next(csvreader)\n",
    "\n",
    "    # Read each row of data after the header\n",
    "    for row in csvreader:\n",
    "   \n",
    "        NetAmount += int(row[1])\n",
    "        TotalMonth += 1\n",
    "        \n",
    "        if TotalMonth>1:\n",
    "            DiffChange = int(row[1])-PrevValue\n",
    "            AverageChange += DiffChange\n",
    "            NumOfChange += 1 \n",
    "           \n",
    "        #assign increase/decrease values\n",
    "        if DiffChange>analysis['Increase']['Profit/Loss']:\n",
    "            analysis['Increase']['Date'] = row[0]\n",
    "            analysis['Increase']['Profit/Loss'] = DiffChange\n",
    "        elif DiffChange<analysis['Decrease']['Profit/Loss']:\n",
    "            analysis['Decrease']['Date'] = row[0]\n",
    "            analysis['Decrease']['Profit/Loss'] = DiffChange\n",
    "\n",
    "        #buffer the previous Profit/Losss value\n",
    "        PrevValue = int(row[1])          \n",
    "\n",
    "#output header\n",
    "outputList.append(\"Financial Analysis\") \n",
    "outputList.append(\"----------------------------\")\n",
    "#The total number of months included in the dataset.\n",
    "outputList.append(f\"Total Months: {TotalMonth}\")\n",
    "#The net total amount of Profit/Losses over the entire period.\n",
    "outputList.append(f\"Total: ${NetAmount}\")\n",
    "#The average of the changes in Profit/Losses over the entire period.\n",
    "outputList.append(f\"Average Change: ${round(AverageChange/(NumOfChange),2)}\")\n",
    "#The greatest increase in profits (date and amount) over the entire period.\n",
    "outputList.append(f\"Greatest Increase in Profits: {analysis['Increase']['Date']} (${analysis['Increase']['Profit/Loss']})\")\n",
    "#The greatest decrease in losses (date and amount) over the entire period.\n",
    "outputList.append(f\"Greatest Decrease in Profits: {analysis['Decrease']['Date']} (${analysis['Decrease']['Profit/Loss']})\")\n",
    "    \n",
    "# Set the path for the aggregate.csv\n",
    "output_path = Path(\"output.txt\")\n",
    "\n",
    "# Open the output_path as a file object in \"write\" mode ('w')\n",
    "# Write a header line and write the contents of 'text' to the file\n",
    "with open(output_path, 'w') as file:\n",
    "    for item in outputList:\n",
    "        print(item)  \n",
    "        file.writelines(item+\"\\n\")"
   ]
  },
  {
   "cell_type": "code",
   "execution_count": null,
   "metadata": {},
   "outputs": [],
   "source": []
  },
  {
   "cell_type": "code",
   "execution_count": null,
   "metadata": {},
   "outputs": [],
   "source": []
  }
 ],
 "metadata": {
  "kernelspec": {
   "display_name": "Python 3",
   "language": "python",
   "name": "python3"
  },
  "language_info": {
   "codemirror_mode": {
    "name": "ipython",
    "version": 3
   },
   "file_extension": ".py",
   "mimetype": "text/x-python",
   "name": "python",
   "nbconvert_exporter": "python",
   "pygments_lexer": "ipython3",
   "version": "3.8.3"
  }
 },
 "nbformat": 4,
 "nbformat_minor": 4
}
